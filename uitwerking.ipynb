{
 "cells": [
  {
   "cell_type": "markdown",
   "id": "10c345f4",
   "metadata": {},
   "source": [
    "\n",
    "# De waarde van voetbaltransfers\n",
    "\n",
    "In deze notebook ga ik analyseren wat de waarde is van transfers in de Nederlandse Eredivisie voetbal.\n",
    "Elk jaar worden er grote bedragen uitgegeven door clubs. Ik ben benieuwd wat voor effect dit heeft op de uiteindelijke stand op de ranglijst.\n",
    "\n",
    "Voor deze analyse richt ik me op de aankopen van de klassieke 'grote 3', namelijk Ajax, Feyenoord en PSV. De datasets die ik ga gebruiken zijn de bijgeleverde bestanden: `transfers.csv` en `standen.csv`. Deze bestanden heb ik gemaakt door de website www.transfermarkt.nl te scrapen. Voor de code van de scraper verwijs ik je naar het meegeleverde bestand `scraper.py`. \n",
    "De datasets betreffen de inkomende transfers van alle eredivisieclubs en de ranglijsten van de seizoenen 2000/2001 tot en met 2020/2021. Dit is inclusief spelers die uit de jeugd zijn overgekomen en spelers die transfervrij zijn overgekomen. \n"
   ]
  },
  {
   "cell_type": "code",
   "execution_count": 1,
   "id": "1f7bf45f",
   "metadata": {},
   "outputs": [],
   "source": [
    "import seaborn as sns\n",
    "import numpy as np"
   ]
  },
  {
   "cell_type": "markdown",
   "id": "e189d19f",
   "metadata": {},
   "source": [
    "\n",
    "## Wat kost een punt in de eindstand in Euros als je naar de totale transfersom in een jaar kijkt?\n",
    "\n",
    "Aan de hand van de totale aankoopsom per jaar per club, ga ik berekenen wat deze transfersom aan punten heeft opgeleverd.\n",
    "\n",
    "1. Wat heeft 'de kosten per punt' voor gevolgen voor de eindrangschikking? Moet er perse meer uitgegeven worden om hoger te eindigen?\n",
    "2. Is er per club een trend te zien in hoe 'goed' zij hun geld besteden?\n",
    "\n",
    "Op bovenstaande vragen hoop ik een antwoord te vinden door gebruik van bovenstaande datasets en ik wil dit visualiseren door gebruik te maken van verschillende grafieken.\n"
   ]
  },
  {
   "cell_type": "markdown",
   "id": "5cef9a3d",
   "metadata": {},
   "source": [
    "\n",
    "### De basis-dataframes\n",
    "\n",
    "Als eerst ga ik de csv-bestanden importeren en in een dataframe zetten. Dit zal resulteren in 2 dataframes:\n",
    "1. standen\n",
    "2. transfers\n",
    "\n",
    "Deze dataframes zullen de basis zijn voor mijn analyses.\n",
    "Ik zal de 'head' van de dataframes tonen.\n"
   ]
  },
  {
   "cell_type": "code",
   "execution_count": 2,
   "id": "453918e0",
   "metadata": {},
   "outputs": [],
   "source": [
    "import pandas as pd"
   ]
  },
  {
   "cell_type": "markdown",
   "id": "790c6b66",
   "metadata": {},
   "source": [
    "\n",
    "#### Standen\n",
    "\n",
    "Import van `standen.csv` en verwerking in een dataframe.\n",
    "Ik maak een lijst aan voor de kolomnamen."
   ]
  },
  {
   "cell_type": "code",
   "execution_count": 3,
   "id": "fb9323d6",
   "metadata": {},
   "outputs": [
    {
     "data": {
      "text/html": [
       "<div>\n",
       "<style scoped>\n",
       "    .dataframe tbody tr th:only-of-type {\n",
       "        vertical-align: middle;\n",
       "    }\n",
       "\n",
       "    .dataframe tbody tr th {\n",
       "        vertical-align: top;\n",
       "    }\n",
       "\n",
       "    .dataframe thead th {\n",
       "        text-align: right;\n",
       "    }\n",
       "</style>\n",
       "<table border=\"1\" class=\"dataframe\">\n",
       "  <thead>\n",
       "    <tr style=\"text-align: right;\">\n",
       "      <th></th>\n",
       "      <th>jaar</th>\n",
       "      <th>rangschikking</th>\n",
       "      <th>club</th>\n",
       "      <th>wedstrijden</th>\n",
       "      <th>gewonnen</th>\n",
       "      <th>gelijk</th>\n",
       "      <th>verloren</th>\n",
       "      <th>voor/tegen</th>\n",
       "      <th>doelsaldo</th>\n",
       "      <th>punten</th>\n",
       "    </tr>\n",
       "  </thead>\n",
       "  <tbody>\n",
       "    <tr>\n",
       "      <th>0</th>\n",
       "      <td>2000</td>\n",
       "      <td>1</td>\n",
       "      <td>PSV</td>\n",
       "      <td>34</td>\n",
       "      <td>25</td>\n",
       "      <td>8</td>\n",
       "      <td>1</td>\n",
       "      <td>73:23</td>\n",
       "      <td>50</td>\n",
       "      <td>83</td>\n",
       "    </tr>\n",
       "    <tr>\n",
       "      <th>1</th>\n",
       "      <td>2000</td>\n",
       "      <td>2</td>\n",
       "      <td>Feyenoord</td>\n",
       "      <td>34</td>\n",
       "      <td>21</td>\n",
       "      <td>3</td>\n",
       "      <td>10</td>\n",
       "      <td>67:37</td>\n",
       "      <td>30</td>\n",
       "      <td>66</td>\n",
       "    </tr>\n",
       "    <tr>\n",
       "      <th>2</th>\n",
       "      <td>2000</td>\n",
       "      <td>3</td>\n",
       "      <td>Ajax</td>\n",
       "      <td>34</td>\n",
       "      <td>18</td>\n",
       "      <td>7</td>\n",
       "      <td>9</td>\n",
       "      <td>85:43</td>\n",
       "      <td>42</td>\n",
       "      <td>61</td>\n",
       "    </tr>\n",
       "    <tr>\n",
       "      <th>3</th>\n",
       "      <td>2000</td>\n",
       "      <td>4</td>\n",
       "      <td>Roda JC</td>\n",
       "      <td>34</td>\n",
       "      <td>17</td>\n",
       "      <td>8</td>\n",
       "      <td>9</td>\n",
       "      <td>59:41</td>\n",
       "      <td>18</td>\n",
       "      <td>59</td>\n",
       "    </tr>\n",
       "    <tr>\n",
       "      <th>4</th>\n",
       "      <td>2000</td>\n",
       "      <td>5</td>\n",
       "      <td>FC Utrecht</td>\n",
       "      <td>34</td>\n",
       "      <td>17</td>\n",
       "      <td>8</td>\n",
       "      <td>9</td>\n",
       "      <td>58:43</td>\n",
       "      <td>15</td>\n",
       "      <td>59</td>\n",
       "    </tr>\n",
       "  </tbody>\n",
       "</table>\n",
       "</div>"
      ],
      "text/plain": [
       "   jaar  rangschikking        club  wedstrijden  gewonnen  gelijk  verloren  \\\n",
       "0  2000              1         PSV           34        25       8         1   \n",
       "1  2000              2   Feyenoord           34        21       3        10   \n",
       "2  2000              3        Ajax           34        18       7         9   \n",
       "3  2000              4     Roda JC           34        17       8         9   \n",
       "4  2000              5  FC Utrecht           34        17       8         9   \n",
       "\n",
       "  voor/tegen  doelsaldo  punten  \n",
       "0      73:23         50      83  \n",
       "1      67:37         30      66  \n",
       "2      85:43         42      61  \n",
       "3      59:41         18      59  \n",
       "4      58:43         15      59  "
      ]
     },
     "execution_count": 3,
     "metadata": {},
     "output_type": "execute_result"
    }
   ],
   "source": [
    "stand_namen = ['jaar', 'rangschikking', 'club', 'wedstrijden', 'gewonnen', 'gelijk', 'verloren', 'voor/tegen', 'doelsaldo', 'punten']\n",
    "standen = pd.read_csv('standen.csv', names=stand_namen)\n",
    "#FC Twente en NAC Breda zitten er dubbel in vanwege toevoeging '*' Dit pas ik hieronder aan\n",
    "standen['club'].replace(['FC Twente *', 'NAC Breda *'], ['FC Twente', 'NAC Breda'], inplace=True)\n",
    "standen.head()"
   ]
  },
  {
   "cell_type": "markdown",
   "id": "cfdf0f1d",
   "metadata": {},
   "source": [
    "\n",
    "#### Transfers\n",
    "\n",
    "Import van `transfers.csv` en verwerking in een dataframe. Ook hier maak ik een lijst aan voor de kolommen.\n"
   ]
  },
  {
   "cell_type": "code",
   "execution_count": 4,
   "id": "ea1c717d",
   "metadata": {},
   "outputs": [
    {
     "data": {
      "text/html": [
       "<div>\n",
       "<style scoped>\n",
       "    .dataframe tbody tr th:only-of-type {\n",
       "        vertical-align: middle;\n",
       "    }\n",
       "\n",
       "    .dataframe tbody tr th {\n",
       "        vertical-align: top;\n",
       "    }\n",
       "\n",
       "    .dataframe thead th {\n",
       "        text-align: right;\n",
       "    }\n",
       "</style>\n",
       "<table border=\"1\" class=\"dataframe\">\n",
       "  <thead>\n",
       "    <tr style=\"text-align: right;\">\n",
       "      <th></th>\n",
       "      <th>jaar</th>\n",
       "      <th>club</th>\n",
       "      <th>speler</th>\n",
       "      <th>vorige club</th>\n",
       "      <th>leeftijd</th>\n",
       "      <th>positie</th>\n",
       "      <th>transfersom</th>\n",
       "    </tr>\n",
       "  </thead>\n",
       "  <tbody>\n",
       "    <tr>\n",
       "      <th>0</th>\n",
       "      <td>2000</td>\n",
       "      <td>Fortuna Sittard</td>\n",
       "      <td>Ruud Hesp  Ruud Hesp</td>\n",
       "      <td>Barcelona</td>\n",
       "      <td>34</td>\n",
       "      <td>K</td>\n",
       "      <td>1200000.0</td>\n",
       "    </tr>\n",
       "    <tr>\n",
       "      <th>1</th>\n",
       "      <td>2000</td>\n",
       "      <td>Fortuna Sittard</td>\n",
       "      <td>Jochem van der Hoeven  J. van der Hoeven</td>\n",
       "      <td>Sparta</td>\n",
       "      <td>24</td>\n",
       "      <td>CV</td>\n",
       "      <td>0.0</td>\n",
       "    </tr>\n",
       "    <tr>\n",
       "      <th>2</th>\n",
       "      <td>2000</td>\n",
       "      <td>Fortuna Sittard</td>\n",
       "      <td>David Klimek  D. Klimek</td>\n",
       "      <td>Schalke 04 U19</td>\n",
       "      <td>18</td>\n",
       "      <td>LV</td>\n",
       "      <td>0.0</td>\n",
       "    </tr>\n",
       "    <tr>\n",
       "      <th>3</th>\n",
       "      <td>2000</td>\n",
       "      <td>Fortuna Sittard</td>\n",
       "      <td>Rolf Landerl  R. Landerl</td>\n",
       "      <td>AZ Alkmaar</td>\n",
       "      <td>23</td>\n",
       "      <td>AM</td>\n",
       "      <td>0.0</td>\n",
       "    </tr>\n",
       "    <tr>\n",
       "      <th>4</th>\n",
       "      <td>2000</td>\n",
       "      <td>Fortuna Sittard</td>\n",
       "      <td>Marcel Akerboom  M. Akerboom</td>\n",
       "      <td>Ajax O19</td>\n",
       "      <td>18</td>\n",
       "      <td>CV</td>\n",
       "      <td>0.0</td>\n",
       "    </tr>\n",
       "  </tbody>\n",
       "</table>\n",
       "</div>"
      ],
      "text/plain": [
       "   jaar             club                                    speler  \\\n",
       "0  2000  Fortuna Sittard                      Ruud Hesp  Ruud Hesp   \n",
       "1  2000  Fortuna Sittard  Jochem van der Hoeven  J. van der Hoeven   \n",
       "2  2000  Fortuna Sittard                   David Klimek  D. Klimek   \n",
       "3  2000  Fortuna Sittard                  Rolf Landerl  R. Landerl   \n",
       "4  2000  Fortuna Sittard              Marcel Akerboom  M. Akerboom   \n",
       "\n",
       "      vorige club  leeftijd positie  transfersom  \n",
       "0       Barcelona        34       K    1200000.0  \n",
       "1          Sparta        24      CV          0.0  \n",
       "2  Schalke 04 U19        18      LV          0.0  \n",
       "3      AZ Alkmaar        23      AM          0.0  \n",
       "4        Ajax O19        18      CV          0.0  "
      ]
     },
     "execution_count": 4,
     "metadata": {},
     "output_type": "execute_result"
    }
   ],
   "source": [
    "transfer_namen = ['jaar', 'club', 'speler', 'vorige club', 'leeftijd', 'positie', 'transfersom']\n",
    "transfers = pd.read_csv('transfers.csv', names=transfer_namen)\n",
    "transfers.head()"
   ]
  },
  {
   "cell_type": "markdown",
   "id": "dac9ebe3",
   "metadata": {},
   "source": [
    "#### gelijkstellen namen in dataframes\n",
    "\n",
    "In de dataframes worden net iets afwijkende clubnamen gebruikt.\n",
    "Hieronder zorg ik ervoor dat de clubnamen in beide dataframes overeenkomen.\n"
   ]
  },
  {
   "cell_type": "code",
   "execution_count": 5,
   "id": "fa2f3c1b",
   "metadata": {},
   "outputs": [
    {
     "name": "stdout",
     "output_type": "stream",
     "text": [
      "['Ajax', 'Vitesse', 'Heerenveen', 'NEC', 'Sparta', 'Excelsior']\n",
      "['AFC Ajax', 'Vitesse Arnhem', 'Sparta Rotterdam', 'NEC Nijmegen', 'sc Heerenveen', 'Excelsior Rotterdam']\n"
     ]
    }
   ],
   "source": [
    "standen_clubs = standen.club.unique()\n",
    "transfer_clubs = transfers.club.unique()\n",
    "\n",
    "foute_namen = []\n",
    "\n",
    "for club in standen_clubs:\n",
    "    if club not in transfer_clubs:\n",
    "        foute_namen.append(club)\n",
    "        \n",
    "print(foute_namen)\n",
    "\n",
    "meer_foute_namen = []\n",
    "\n",
    "for club in transfer_clubs:\n",
    "    if club not in standen_clubs:\n",
    "        meer_foute_namen.append(club)\n",
    "\n",
    "print(meer_foute_namen)\n"
   ]
  },
  {
   "cell_type": "markdown",
   "id": "a134793f",
   "metadata": {},
   "source": [
    "\n",
    "Nu ga ik de afwijkende namen matchen.\n"
   ]
  },
  {
   "cell_type": "code",
   "execution_count": 6,
   "id": "ae0e0ab2",
   "metadata": {},
   "outputs": [
    {
     "data": {
      "text/plain": [
       "array(['Fortuna Sittard', 'RBC Roosendaal', 'AZ Alkmaar', 'De Graafschap',\n",
       "       'Ajax', 'Vitesse', 'Sparta', 'NEC', 'Willem II', 'NAC Breda',\n",
       "       'PSV', 'FC Twente', 'Heerenveen', 'RKC Waalwijk', 'Feyenoord',\n",
       "       'FC Groningen', 'FC Utrecht', 'Roda JC', 'FC Den Bosch',\n",
       "       'FC Zwolle', 'Excelsior', 'FC Volendam', 'ADO Den Haag',\n",
       "       'Heracles Almelo', 'VVV-Venlo', 'PEC Zwolle', 'SC Cambuur',\n",
       "       'Go Ahead Eagles', 'FC Dordrecht', 'FC Emmen'], dtype=object)"
      ]
     },
     "execution_count": 6,
     "metadata": {},
     "output_type": "execute_result"
    }
   ],
   "source": [
    "# vervang de namen uit een lijst met de namen uit een nieuwe lijst\n",
    "transfers['club'].replace(['AFC Ajax', 'Vitesse Arnhem', 'Sparta Rotterdam', 'NEC Nijmegen', 'sc Heerenveen', 'Excelsior Rotterdam'],\n",
    "                         ['Ajax', 'Vitesse', 'Sparta', 'NEC', 'Heerenveen', 'Excelsior'],\n",
    "                         inplace=True)\n",
    "\n",
    "transfers.club.unique()"
   ]
  },
  {
   "cell_type": "markdown",
   "id": "2005a72e",
   "metadata": {},
   "source": [
    "#### Data verrijken\n",
    "\n",
    "\n",
    "De dataframes ga ik checken op Nan. Als de transfersommen Nan bevatten dan ga ik deze verwijderen uit het dataframe. De transfersommen kunnen zover uit elkaar liggen dat er geen zinnig woord over is te zeggen.\n"
   ]
  },
  {
   "cell_type": "code",
   "execution_count": 7,
   "id": "0dd28cf2",
   "metadata": {},
   "outputs": [
    {
     "name": "stdout",
     "output_type": "stream",
     "text": [
      "Standen bevat Nan: False\n",
      "Transfers bevat Nan: True\n"
     ]
    }
   ],
   "source": [
    "# check of standen 'Nan' bevat\n",
    "print(f\"Standen bevat Nan: {standen.isnull().values.any()}\")\n",
    "# check of transfers 'Nan' bevat\n",
    "print(f\"Transfers bevat Nan: {transfers.isnull().values.any()}\")"
   ]
  },
  {
   "cell_type": "markdown",
   "id": "eaef9371",
   "metadata": {},
   "source": [
    "\n",
    "Check het aantal rijen en kolommen voor de verwijdering.\n"
   ]
  },
  {
   "cell_type": "code",
   "execution_count": 8,
   "id": "b7885205",
   "metadata": {},
   "outputs": [
    {
     "data": {
      "text/plain": [
       "(3809, 7)"
      ]
     },
     "execution_count": 8,
     "metadata": {},
     "output_type": "execute_result"
    }
   ],
   "source": [
    "transfers.shape"
   ]
  },
  {
   "cell_type": "markdown",
   "id": "b08db33d",
   "metadata": {},
   "source": [
    "\n",
    "Verwijder de Nan values.\n"
   ]
  },
  {
   "cell_type": "code",
   "execution_count": 9,
   "id": "d34714b7",
   "metadata": {},
   "outputs": [],
   "source": [
    "# verwijderen rijen met een Nan value\n",
    "transfers.dropna(inplace=True)"
   ]
  },
  {
   "cell_type": "markdown",
   "id": "3259620f",
   "metadata": {},
   "source": [
    "\n",
    "\n",
    "Check het aantal rijen en kolommen na de verwijdering.\n"
   ]
  },
  {
   "cell_type": "code",
   "execution_count": 10,
   "id": "57ae648a",
   "metadata": {},
   "outputs": [
    {
     "data": {
      "text/plain": [
       "(3255, 7)"
      ]
     },
     "execution_count": 10,
     "metadata": {},
     "output_type": "execute_result"
    }
   ],
   "source": [
    "transfers.shape"
   ]
  },
  {
   "cell_type": "markdown",
   "id": "463a38d6",
   "metadata": {},
   "source": [
    "\n",
    "## Punten per EURO transfersom\n",
    "\n",
    "Om te berekenen wat de totale transfersom per jaar is per club en daarna te berekenen wat elk punt heeft 'gekost' ga ik eerst uit de tabel `transfers` de koopsom per jaar bepalen en deze toevoegen als een kolom in de standen tabel.\n",
    "Vervolgens ga ik nog een kolom toevoegen waarin de transfersom gedeeld wordt door het behaalde aantal punten: De kosten per punt.\n"
   ]
  },
  {
   "cell_type": "code",
   "execution_count": 11,
   "id": "dffaaeca",
   "metadata": {},
   "outputs": [
    {
     "data": {
      "text/plain": [
       "jaar  club         \n",
       "2000  AZ Alkmaar       3300000.0\n",
       "      Ajax             5300000.0\n",
       "      De Graafschap          0.0\n",
       "      FC Groningen      450000.0\n",
       "      FC Twente         675000.0\n",
       "                         ...    \n",
       "2020  RKC Waalwijk           0.0\n",
       "      Sparta            100000.0\n",
       "      VVV-Venlo         360000.0\n",
       "      Vitesse                0.0\n",
       "      Willem II        1075000.0\n",
       "Name: transfersom, Length: 378, dtype: float64"
      ]
     },
     "execution_count": 11,
     "metadata": {},
     "output_type": "execute_result"
    }
   ],
   "source": [
    "# Berekenen van de totale transfersom per jaar per club\n",
    "totale_som = transfers.groupby(['jaar', 'club']).transfersom.sum()\n",
    "totale_som"
   ]
  },
  {
   "cell_type": "markdown",
   "id": "0ce34ea4",
   "metadata": {},
   "source": [
    "\n",
    "Om de transfersommen per jaar en per club toe te voegen aan het `standen dataframe` maak ik een lijst met de transfersommen en deze voeg ik aan het dataframe toe.\n"
   ]
  },
  {
   "cell_type": "code",
   "execution_count": 12,
   "id": "8d7c3d63",
   "metadata": {},
   "outputs": [
    {
     "data": {
      "text/html": [
       "<div>\n",
       "<style scoped>\n",
       "    .dataframe tbody tr th:only-of-type {\n",
       "        vertical-align: middle;\n",
       "    }\n",
       "\n",
       "    .dataframe tbody tr th {\n",
       "        vertical-align: top;\n",
       "    }\n",
       "\n",
       "    .dataframe thead th {\n",
       "        text-align: right;\n",
       "    }\n",
       "</style>\n",
       "<table border=\"1\" class=\"dataframe\">\n",
       "  <thead>\n",
       "    <tr style=\"text-align: right;\">\n",
       "      <th></th>\n",
       "      <th>jaar</th>\n",
       "      <th>rangschikking</th>\n",
       "      <th>club</th>\n",
       "      <th>wedstrijden</th>\n",
       "      <th>gewonnen</th>\n",
       "      <th>gelijk</th>\n",
       "      <th>verloren</th>\n",
       "      <th>voor/tegen</th>\n",
       "      <th>doelsaldo</th>\n",
       "      <th>punten</th>\n",
       "      <th>transfersom</th>\n",
       "    </tr>\n",
       "  </thead>\n",
       "  <tbody>\n",
       "    <tr>\n",
       "      <th>0</th>\n",
       "      <td>2000</td>\n",
       "      <td>1</td>\n",
       "      <td>PSV</td>\n",
       "      <td>34</td>\n",
       "      <td>25</td>\n",
       "      <td>8</td>\n",
       "      <td>1</td>\n",
       "      <td>73:23</td>\n",
       "      <td>50</td>\n",
       "      <td>83</td>\n",
       "      <td>14000000.0</td>\n",
       "    </tr>\n",
       "    <tr>\n",
       "      <th>1</th>\n",
       "      <td>2000</td>\n",
       "      <td>2</td>\n",
       "      <td>Feyenoord</td>\n",
       "      <td>34</td>\n",
       "      <td>21</td>\n",
       "      <td>3</td>\n",
       "      <td>10</td>\n",
       "      <td>67:37</td>\n",
       "      <td>30</td>\n",
       "      <td>66</td>\n",
       "      <td>4700000.0</td>\n",
       "    </tr>\n",
       "    <tr>\n",
       "      <th>2</th>\n",
       "      <td>2000</td>\n",
       "      <td>3</td>\n",
       "      <td>Ajax</td>\n",
       "      <td>34</td>\n",
       "      <td>18</td>\n",
       "      <td>7</td>\n",
       "      <td>9</td>\n",
       "      <td>85:43</td>\n",
       "      <td>42</td>\n",
       "      <td>61</td>\n",
       "      <td>5300000.0</td>\n",
       "    </tr>\n",
       "    <tr>\n",
       "      <th>3</th>\n",
       "      <td>2000</td>\n",
       "      <td>4</td>\n",
       "      <td>Roda JC</td>\n",
       "      <td>34</td>\n",
       "      <td>17</td>\n",
       "      <td>8</td>\n",
       "      <td>9</td>\n",
       "      <td>59:41</td>\n",
       "      <td>18</td>\n",
       "      <td>59</td>\n",
       "      <td>1750000.0</td>\n",
       "    </tr>\n",
       "    <tr>\n",
       "      <th>4</th>\n",
       "      <td>2000</td>\n",
       "      <td>5</td>\n",
       "      <td>FC Utrecht</td>\n",
       "      <td>34</td>\n",
       "      <td>17</td>\n",
       "      <td>8</td>\n",
       "      <td>9</td>\n",
       "      <td>58:43</td>\n",
       "      <td>15</td>\n",
       "      <td>59</td>\n",
       "      <td>1000000.0</td>\n",
       "    </tr>\n",
       "  </tbody>\n",
       "</table>\n",
       "</div>"
      ],
      "text/plain": [
       "   jaar  rangschikking        club  wedstrijden  gewonnen  gelijk  verloren  \\\n",
       "0  2000              1         PSV           34        25       8         1   \n",
       "1  2000              2   Feyenoord           34        21       3        10   \n",
       "2  2000              3        Ajax           34        18       7         9   \n",
       "3  2000              4     Roda JC           34        17       8         9   \n",
       "4  2000              5  FC Utrecht           34        17       8         9   \n",
       "\n",
       "  voor/tegen  doelsaldo  punten  transfersom  \n",
       "0      73:23         50      83   14000000.0  \n",
       "1      67:37         30      66    4700000.0  \n",
       "2      85:43         42      61    5300000.0  \n",
       "3      59:41         18      59    1750000.0  \n",
       "4      58:43         15      59    1000000.0  "
      ]
     },
     "execution_count": 12,
     "metadata": {},
     "output_type": "execute_result"
    }
   ],
   "source": [
    "list = []\n",
    "# loop door dataframe om een lijst aan te maken in dezelfde volgorde als het dataframe 'standen'\n",
    "for index, row in standen.iterrows():\n",
    "    list.append(totale_som[row['jaar'], row['club']])\n",
    "\n",
    "# Voeg lijst toe aan aan dataframe\n",
    "standen['transfersom'] = list\n",
    "standen.head()"
   ]
  },
  {
   "cell_type": "markdown",
   "id": "5065cf24",
   "metadata": {},
   "source": [
    "\n",
    "Nu kan ik eindelijk de kosten per punt berekenen. Ook deze kolom voeg ik toe aan het dataframe `standen`.\n"
   ]
  },
  {
   "cell_type": "code",
   "execution_count": 13,
   "id": "2fd4c0d7",
   "metadata": {},
   "outputs": [],
   "source": [
    "# toevoegen kosten per punt aan de standen tabel\n",
    "standen['kosten per punt * 1000 EUR'] = round(standen['transfersom'] / standen['punten'] / 1000, 2)"
   ]
  },
  {
   "cell_type": "markdown",
   "id": "d9e725f7",
   "metadata": {},
   "source": [
    "\n",
    "Ik filter hieronder de topclubs die ik ga analyseren uit het `standen dataframe`.\n"
   ]
  },
  {
   "cell_type": "code",
   "execution_count": 14,
   "id": "5b47ef24",
   "metadata": {},
   "outputs": [
    {
     "data": {
      "text/html": [
       "<div>\n",
       "<style scoped>\n",
       "    .dataframe tbody tr th:only-of-type {\n",
       "        vertical-align: middle;\n",
       "    }\n",
       "\n",
       "    .dataframe tbody tr th {\n",
       "        vertical-align: top;\n",
       "    }\n",
       "\n",
       "    .dataframe thead th {\n",
       "        text-align: right;\n",
       "    }\n",
       "</style>\n",
       "<table border=\"1\" class=\"dataframe\">\n",
       "  <thead>\n",
       "    <tr style=\"text-align: right;\">\n",
       "      <th></th>\n",
       "      <th>jaar</th>\n",
       "      <th>rangschikking</th>\n",
       "      <th>club</th>\n",
       "      <th>wedstrijden</th>\n",
       "      <th>gewonnen</th>\n",
       "      <th>gelijk</th>\n",
       "      <th>verloren</th>\n",
       "      <th>voor/tegen</th>\n",
       "      <th>doelsaldo</th>\n",
       "      <th>punten</th>\n",
       "      <th>transfersom</th>\n",
       "      <th>kosten per punt * 1000 EUR</th>\n",
       "    </tr>\n",
       "  </thead>\n",
       "  <tbody>\n",
       "    <tr>\n",
       "      <th>0</th>\n",
       "      <td>2000</td>\n",
       "      <td>1</td>\n",
       "      <td>PSV</td>\n",
       "      <td>34</td>\n",
       "      <td>25</td>\n",
       "      <td>8</td>\n",
       "      <td>1</td>\n",
       "      <td>73:23</td>\n",
       "      <td>50</td>\n",
       "      <td>83</td>\n",
       "      <td>14000000.0</td>\n",
       "      <td>168.67</td>\n",
       "    </tr>\n",
       "    <tr>\n",
       "      <th>1</th>\n",
       "      <td>2000</td>\n",
       "      <td>2</td>\n",
       "      <td>Feyenoord</td>\n",
       "      <td>34</td>\n",
       "      <td>21</td>\n",
       "      <td>3</td>\n",
       "      <td>10</td>\n",
       "      <td>67:37</td>\n",
       "      <td>30</td>\n",
       "      <td>66</td>\n",
       "      <td>4700000.0</td>\n",
       "      <td>71.21</td>\n",
       "    </tr>\n",
       "    <tr>\n",
       "      <th>2</th>\n",
       "      <td>2000</td>\n",
       "      <td>3</td>\n",
       "      <td>Ajax</td>\n",
       "      <td>34</td>\n",
       "      <td>18</td>\n",
       "      <td>7</td>\n",
       "      <td>9</td>\n",
       "      <td>85:43</td>\n",
       "      <td>42</td>\n",
       "      <td>61</td>\n",
       "      <td>5300000.0</td>\n",
       "      <td>86.89</td>\n",
       "    </tr>\n",
       "    <tr>\n",
       "      <th>18</th>\n",
       "      <td>2001</td>\n",
       "      <td>1</td>\n",
       "      <td>Ajax</td>\n",
       "      <td>34</td>\n",
       "      <td>22</td>\n",
       "      <td>7</td>\n",
       "      <td>5</td>\n",
       "      <td>73:34</td>\n",
       "      <td>39</td>\n",
       "      <td>73</td>\n",
       "      <td>15500000.0</td>\n",
       "      <td>212.33</td>\n",
       "    </tr>\n",
       "    <tr>\n",
       "      <th>19</th>\n",
       "      <td>2001</td>\n",
       "      <td>2</td>\n",
       "      <td>PSV</td>\n",
       "      <td>34</td>\n",
       "      <td>20</td>\n",
       "      <td>8</td>\n",
       "      <td>6</td>\n",
       "      <td>77:32</td>\n",
       "      <td>45</td>\n",
       "      <td>68</td>\n",
       "      <td>17700000.0</td>\n",
       "      <td>260.29</td>\n",
       "    </tr>\n",
       "  </tbody>\n",
       "</table>\n",
       "</div>"
      ],
      "text/plain": [
       "    jaar  rangschikking       club  wedstrijden  gewonnen  gelijk  verloren  \\\n",
       "0   2000              1        PSV           34        25       8         1   \n",
       "1   2000              2  Feyenoord           34        21       3        10   \n",
       "2   2000              3       Ajax           34        18       7         9   \n",
       "18  2001              1       Ajax           34        22       7         5   \n",
       "19  2001              2        PSV           34        20       8         6   \n",
       "\n",
       "   voor/tegen  doelsaldo  punten  transfersom  kosten per punt * 1000 EUR  \n",
       "0       73:23         50      83   14000000.0                      168.67  \n",
       "1       67:37         30      66    4700000.0                       71.21  \n",
       "2       85:43         42      61    5300000.0                       86.89  \n",
       "18      73:34         39      73   15500000.0                      212.33  \n",
       "19      77:32         45      68   17700000.0                      260.29  "
      ]
     },
     "execution_count": 14,
     "metadata": {},
     "output_type": "execute_result"
    }
   ],
   "source": [
    "# filter de topclubs uit het standen bestand\n",
    "topclubs = ['Ajax', 'Feyenoord', 'PSV']\n",
    "topclub_standen = standen[standen['club'].isin(topclubs)]\n",
    "topclub_standen.head()"
   ]
  },
  {
   "cell_type": "markdown",
   "id": "4327097f",
   "metadata": {},
   "source": [
    "\n",
    "### Uitgaven per punt door de jaren heen\n",
    "\n",
    "In de onderstaande tabellen kun je in een overzicht zien hoeveel de 3 topclubs door de jaren heen hebben uitgegeven per punt op de eindranglijst.\n",
    "\n",
    "Wat mij opvalt is dat er een golvende beweging is te zien in de uitgaven per punt die naarmate de jaren vorderen wel steeds toenemen. Duidelijk is dat Ajax het meest uitgeeft per punt, gevolgd door PSV en duidelijk onderaan staat Feyenoord, met zelfs een aantal jaren zonder uitgaven.\n"
   ]
  },
  {
   "cell_type": "code",
   "execution_count": 15,
   "id": "9d1025ca",
   "metadata": {
    "scrolled": false
   },
   "outputs": [
    {
     "name": "stderr",
     "output_type": "stream",
     "text": [
      "/home/niels/bit-academy/eindopdracht/transfers/venv/lib/python3.8/site-packages/seaborn/axisgrid.py:670: UserWarning: Using the barplot function without specifying `order` is likely to produce an incorrect plot.\n",
      "  warnings.warn(warning)\n"
     ]
    },
    {
     "data": {
      "text/plain": [
       "<seaborn.axisgrid.FacetGrid at 0x7fa6395c38b0>"
      ]
     },
     "execution_count": 15,
     "metadata": {},
     "output_type": "execute_result"
    },
    {
     "data": {
      "image/png": "[encoded data removed]",
      "text/plain": [
       "<Figure size 756x648 with 3 Axes>"
      ]
     },
     "metadata": {
      "needs_background": "light"
     },
     "output_type": "display_data"
    }
   ],
   "source": [
    "g = sns.FacetGrid(topclub_standen, row='club', height=3, aspect=3.5)\n",
    "g.map(sns.barplot, 'jaar', 'kosten per punt * 1000 EUR')"
   ]
  },
  {
   "cell_type": "markdown",
   "id": "70bf5178",
   "metadata": {},
   "source": [
    "\n",
    "## Gevolgen op de eindrangschikking\n",
    "\n",
    "Nu we weten wat de clubs uitgeven per punt gaan we kijken wat voor gevolgen dit heeft voor de eindrangschikking. De kampioensschaal wordt uiteindelijk uitgedeeld aan het team met de meeste punten. Niet aan diegene die de duurste punten heeft.\n"
   ]
  },
  {
   "cell_type": "code",
   "execution_count": 16,
   "id": "717a23ab",
   "metadata": {},
   "outputs": [],
   "source": [
    "from matplotlib import pyplot as plt"
   ]
  },
  {
   "cell_type": "markdown",
   "id": "4af1cbf8",
   "metadata": {},
   "source": [
    "\n",
    "In onderstaande scatterplot gaan we zien wat de relatie is tussen de uitgaven per punt en de eindrangschikking.\n"
   ]
  },
  {
   "cell_type": "code",
   "execution_count": 17,
   "id": "ccd1f914",
   "metadata": {},
   "outputs": [
    {
     "data": {
      "text/plain": [
       "<AxesSubplot:xlabel='kosten per punt * 1000 EUR', ylabel='rangschikking'>"
      ]
     },
     "execution_count": 17,
     "metadata": {},
     "output_type": "execute_result"
    },
    {
     "data": {
      "image/png": "[encoded data removed]",
      "text/plain": [
       "<Figure size 648x432 with 1 Axes>"
      ]
     },
     "metadata": {
      "needs_background": "light"
     },
     "output_type": "display_data"
    }
   ],
   "source": [
    "# de grootte van onderstaande tabel aanpassen\n",
    "fig, ax = plt.subplots(figsize=(9, 6))\n",
    "# zorg dat eindplaats rangschikking 1 bovenaan staat\n",
    "ax.invert_yaxis()\n",
    "sns.scatterplot(data=topclub_standen, x='kosten per punt * 1000 EUR', y='rangschikking', hue='club', palette=['red', 'black', 'blue'])\n"
   ]
  },
  {
   "cell_type": "markdown",
   "id": "3a3b2896",
   "metadata": {},
   "source": [
    "\n",
    "Ondanks dat er niet heel veel data zijn is er wel een en ander op te maken uit deze scatterplot.\n",
    "\n",
    "Als de uitgave hoog is per punt, dan resulteert dat ook vaak in een hoge eindrangschikking. Een lagere uitgave per punt sluit niet uit dat een hoge eindrangschikking behaalt wordt.\n"
   ]
  },
  {
   "cell_type": "markdown",
   "id": "5a2fc127",
   "metadata": {},
   "source": [
    "\n",
    "### Is er per club een trend te zien in hoe 'goed' zij hun geld besteden?\n",
    "\n",
    "Uit voorgaande plot kunnen we dus opmaken dat een hoge uitgave vaak leidt tot een topklassering, maar dat met een lage uitgave per punt er ook goede klasseringen behaalt kunnen worden.\n",
    "\n",
    "Interessant om te kijken hoe de clubs het individueel doen.\n"
   ]
  },
  {
   "cell_type": "markdown",
   "id": "bbd2f772",
   "metadata": {},
   "source": [
    "\n",
    "#### Ajax\n",
    "\n",
    "Als je naar de plot van Ajax kijkt dan zie je dat ze in 20 jaar slechts 3 keer buiten de top 2 zijn geeindigd. Iets meer dan de helft van deze periode hebben zij minder dan 200K per punt uitgegeven. Van deze keren zijn ze slechts 1 keer buiten de top 2 geeindigd.\n",
    "Je kunt hieruit concluderen dat zij hun geld goed besteden.\n"
   ]
  },
  {
   "cell_type": "code",
   "execution_count": 18,
   "id": "764369f1",
   "metadata": {},
   "outputs": [
    {
     "data": {
      "text/plain": [
       "<AxesSubplot:xlabel='kosten per punt * 1000 EUR', ylabel='rangschikking'>"
      ]
     },
     "execution_count": 18,
     "metadata": {},
     "output_type": "execute_result"
    },
    {
     "data": {
      "image/png": "[encoded data removed]",
      "text/plain": [
       "<Figure size 648x432 with 1 Axes>"
      ]
     },
     "metadata": {
      "needs_background": "light"
     },
     "output_type": "display_data"
    }
   ],
   "source": [
    "ajax = topclub_standen[topclub_standen['club'] == 'Ajax']\n",
    "# de grootte van onderstaande tabel aanpassen\n",
    "fig, ax = plt.subplots(figsize=(9, 6))\n",
    "# zorg dat eindplaats rangschikking 1 bovenaan staat\n",
    "ax.invert_yaxis()\n",
    "sns.scatterplot(data=ajax, x='kosten per punt * 1000 EUR', y='rangschikking')"
   ]
  },
  {
   "cell_type": "markdown",
   "id": "30b7b8bb",
   "metadata": {},
   "source": [
    "\n",
    "#### Feyenoord\n",
    "\n",
    "Feyenoord heeft de laatste 20 jaar 17 x minder dan 200K per punt besteed. Daarmee zijn ze slecht 4 x in de top 2 gekomen en zelfs 7 keer buiten de top 3 zijn geeindigd. Verder valt up dat de hoogste uitgave per punt resulteerde in slechts een 4e plaats.\n",
    "Verrassend is verder dat zij in een van de 2 jaren dat ze 0.00 hebben uitgegeven, zij toch nog als 2 zijn geeindigd.\n",
    "Over het algemeen kun je concluderen dat de euros bij Feyenoord niet juist besteed worden.\n"
   ]
  },
  {
   "cell_type": "code",
   "execution_count": 19,
   "id": "963f277d",
   "metadata": {},
   "outputs": [
    {
     "data": {
      "text/plain": [
       "<AxesSubplot:xlabel='kosten per punt * 1000 EUR', ylabel='rangschikking'>"
      ]
     },
     "execution_count": 19,
     "metadata": {},
     "output_type": "execute_result"
    },
    {
     "data": {
      "image/png": "[encoded data removed]",
      "text/plain": [
       "<Figure size 648x432 with 1 Axes>"
      ]
     },
     "metadata": {
      "needs_background": "light"
     },
     "output_type": "display_data"
    }
   ],
   "source": [
    "feyenoord = topclub_standen[topclub_standen['club'] == 'Feyenoord']\n",
    "# de grootte van onderstaande tabel aanpassen\n",
    "fig, ax = plt.subplots(figsize=(9, 6))\n",
    "# zorg dat eindplaats rangschikking 1 bovenaan staat\n",
    "ax.invert_yaxis()\n",
    "sns.scatterplot(data=feyenoord, x='kosten per punt * 1000 EUR', y='rangschikking')"
   ]
  },
  {
   "cell_type": "markdown",
   "id": "41e01829",
   "metadata": {},
   "source": [
    "\n",
    "#### PSV\n",
    "\n",
    "Als je naar PSV kijk zie je dat ze de helft van de keren minder dan 200K per punt hebben besteed en daarvan 6 keer in de top 2 zijn gekomen (4x kampioen). Daarnaast zitten zij er voor de rest niet vaak boven de 200K, maar tot de 300K per punt worden ze nog eens 4 x kampien en 3 x 2e. \n",
    "Frappant is ook hier dat de hoogste uitgave per punt resulteerde in een teleurstellende 4e plaats.\n",
    "PSV lijkt wel het maximale uit hun geld te halen.\n"
   ]
  },
  {
   "cell_type": "code",
   "execution_count": 20,
   "id": "d408db8f",
   "metadata": {},
   "outputs": [
    {
     "data": {
      "text/plain": [
       "<AxesSubplot:xlabel='kosten per punt * 1000 EUR', ylabel='rangschikking'>"
      ]
     },
     "execution_count": 20,
     "metadata": {},
     "output_type": "execute_result"
    },
    {
     "data": {
      "image/png": "[encoded data removed]",
      "text/plain": [
       "<Figure size 648x432 with 1 Axes>"
      ]
     },
     "metadata": {
      "needs_background": "light"
     },
     "output_type": "display_data"
    }
   ],
   "source": [
    "psv = topclub_standen[topclub_standen['club'] == 'PSV']\n",
    "# de grootte van onderstaande tabel aanpassen\n",
    "fig, ax = plt.subplots(figsize=(9, 6))\n",
    "# zorg dat eindplaats rangschikking 1 bovenaan staat\n",
    "ax.invert_yaxis()\n",
    "sns.scatterplot(data=psv, x='kosten per punt * 1000 EUR', y='rangschikking')"
   ]
  }
 ],
 "metadata": {
  "kernelspec": {
   "display_name": "Python 3 (ipykernel)",
   "language": "python",
   "name": "python3"
  },
  "language_info": {
   "codemirror_mode": {
    "name": "ipython",
    "version": 3
   },
   "file_extension": ".py",
   "mimetype": "text/x-python",
   "name": "python",
   "nbconvert_exporter": "python",
   "pygments_lexer": "ipython3",
   "version": "3.8.10"
  }
 },
 "nbformat": 4,
 "nbformat_minor": 5
}
