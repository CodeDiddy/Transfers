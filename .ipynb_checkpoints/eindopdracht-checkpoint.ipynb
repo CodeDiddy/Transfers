{
 "cells": [
  {
   "cell_type": "code",
   "execution_count": 1,
   "id": "9087dc84",
   "metadata": {},
   "outputs": [],
   "source": [
    "import pandas as pd"
   ]
  },
  {
   "cell_type": "code",
   "execution_count": 2,
   "id": "492470a5",
   "metadata": {},
   "outputs": [],
   "source": [
    "# import app"
   ]
  },
  {
   "cell_type": "code",
   "execution_count": 8,
   "id": "d97c29a2",
   "metadata": {},
   "outputs": [
    {
     "data": {
      "text/plain": [
       "array(['1,20 mln. €', 'transfervrij', '?', '-', nan, '1,80 mln. €',\n",
       "       '1,50 mln. €', '2,70 mln. €', '2,60 mln. €', '6,30 mln. €',\n",
       "       '2,75 mln. €', '2,50 mln. €', '765 dzd. €', '450 dzd. €',\n",
       "       '14,00 mln. €', '225 dzd. €', '1,10 mln. €', '375 dzd. €',\n",
       "       '2,90 mln. €', '1,00 mln. €', '750 dzd. €', '1,60 mln. €',\n",
       "       '7,80 mln. €', '4,20 mln. €', '3,50 mln. €', '400 dzd. €',\n",
       "       '585 dzd. €', '8,40 mln. €', '5,50 mln. €', '3,80 mln. €',\n",
       "       '500 dzd. €', '1,35 mln. €', '50 dzd. €', '2,25 mln. €',\n",
       "       '2,20 mln. €', '300 dzd. €', '5,00 mln. €', '4,30 mln. €',\n",
       "       '3,00 mln. €', '1,55 mln. €', '4,35 mln. €', '680 dzd. €',\n",
       "       '4,00 mln. €', '350 dzd. €', '90 dzd. €', '950 dzd. €',\n",
       "       '2,00 mln. €', '3,20 mln. €', '800 dzd. €', '6,00 mln. €',\n",
       "       '900 dzd. €', '7,00 mln. €', '200 dzd. €', '4,90 mln. €',\n",
       "       '770 dzd. €', '210 dzd. €', '625 dzd. €', '600 dzd. €',\n",
       "       '75 dzd. €', '70 dzd. €', '550 dzd. €', '9,00 mln. €',\n",
       "       '5,30 mln. €', '1,70 mln. €', '850 dzd. €', '100 dzd. €',\n",
       "       '250 dzd. €', '700 dzd. €', '650 dzd. €', '150 dzd. €',\n",
       "       '230 dzd. €', '25 dzd. €', '115 dzd. €', '4,50 mln. €',\n",
       "       '260 dzd. €', '1,40 mln. €', '40 dzd. €', '60 dzd. €',\n",
       "       '6,90 mln. €', '8,00 mln. €', '7,50 mln. €', '3,75 mln. €',\n",
       "       '1,30 mln. €', '1,02 mln. €', '3,60 mln. €', '1,45 mln. €',\n",
       "       '2,45 mln. €', '2,80 mln. €', '180 dzd. €', '2,30 mln. €',\n",
       "       '16,25 mln. €', '675 dzd. €', '3,70 mln. €', '1,25 mln. €',\n",
       "       '15 dzd. €', '3,30 mln. €', '880 dzd. €', '360 dzd. €',\n",
       "       '175 dzd. €', '3,10 mln. €', '1,75 mln. €', '520 dzd. €',\n",
       "       '3,23 mln. €', '120 dzd. €', '8,50 mln. €', '10 dzd. €',\n",
       "       '4,80 mln. €', '320 dzd. €', '4,10 mln. €', '220 dzd. €',\n",
       "       '480 dzd. €', '125 dzd. €', '168 dzd. €', '1,93 mln. €',\n",
       "       '275 dzd. €', '135 dzd. €', '2,15 mln. €', '460 dzd. €',\n",
       "       '2,40 mln. €', '1,95 mln. €', '4,75 mln. €', '17,40 mln. €',\n",
       "       '11,00 mln. €', '6,50 mln. €', '8,10 mln. €', '3,65 mln. €',\n",
       "       '12,50 mln. €', '10,00 mln. €', '16,00 mln. €', '13,70 mln. €',\n",
       "       '8,25 mln. €', '160 dzd. €', '840 dzd. €', '1,64 mln. €'],\n",
       "      dtype=object)"
      ]
     },
     "execution_count": 8,
     "metadata": {},
     "output_type": "execute_result"
    }
   ],
   "source": [
    "columns = ['Jaar', 'Club', 'Speler', 'Oude Club', 'Leeftijd', 'Positie', 'Transfersom']\n",
    "transfers = pd.read_csv('gegevens.csv', names=columns)\n",
    "sommen = transfers.Transfersom.unique()\n",
    "sommen"
   ]
  },
  {
   "cell_type": "code",
   "execution_count": 9,
   "id": "bbcbd919",
   "metadata": {},
   "outputs": [],
   "source": [
    "import re"
   ]
  },
  {
   "cell_type": "code",
   "execution_count": 19,
   "id": "40e3939e",
   "metadata": {},
   "outputs": [],
   "source": [
    "def transfersom(bedrag):\n",
    "    gesplitst = bedrag.split()\n",
    "    if bedrag == '?':\n",
    "        return None\n",
    "    elif bedrag == 'transfervrij':\n",
    "        return 0\n",
    "    elif bedrag == None:\n",
    "        return None\n",
    "    elif gesplitst[1] == 'dzd.':\n",
    "        return float(gesplitst[0]) * 1000\n",
    "    elif gesplitst[1] ==  'mln.':\n",
    "        return float(gesplitst[0].replace(',','.')) * 1000000\n",
    "    else:\n",
    "        return None\n"
   ]
  },
  {
   "cell_type": "code",
   "execution_count": 20,
   "id": "757a5442",
   "metadata": {},
   "outputs": [
    {
     "data": {
      "text/plain": [
       "1200000.0"
      ]
     },
     "execution_count": 20,
     "metadata": {},
     "output_type": "execute_result"
    }
   ],
   "source": [
    "mln = transfersom(sommen[0])\n",
    "mln"
   ]
  },
  {
   "cell_type": "code",
   "execution_count": 21,
   "id": "aaf12f5a",
   "metadata": {},
   "outputs": [
    {
     "name": "stdout",
     "output_type": "stream",
     "text": [
      "1200000.0\n"
     ]
    },
    {
     "ename": "IndexError",
     "evalue": "list index out of range",
     "output_type": "error",
     "traceback": [
      "\u001b[0;31m---------------------------------------------------------------------------\u001b[0m",
      "\u001b[0;31mIndexError\u001b[0m                                Traceback (most recent call last)",
      "\u001b[0;32m/tmp/ipykernel_19313/391321365.py\u001b[0m in \u001b[0;36m<module>\u001b[0;34m\u001b[0m\n\u001b[1;32m      1\u001b[0m \u001b[0;32mfor\u001b[0m \u001b[0mbdr\u001b[0m \u001b[0;32min\u001b[0m \u001b[0msommen\u001b[0m\u001b[0;34m:\u001b[0m\u001b[0;34m\u001b[0m\u001b[0;34m\u001b[0m\u001b[0m\n\u001b[0;32m----> 2\u001b[0;31m     \u001b[0mprint\u001b[0m\u001b[0;34m(\u001b[0m\u001b[0mtransfersom\u001b[0m\u001b[0;34m(\u001b[0m\u001b[0mbdr\u001b[0m\u001b[0;34m)\u001b[0m\u001b[0;34m)\u001b[0m\u001b[0;34m\u001b[0m\u001b[0;34m\u001b[0m\u001b[0m\n\u001b[0m",
      "\u001b[0;32m/tmp/ipykernel_19313/1322977541.py\u001b[0m in \u001b[0;36mtransfersom\u001b[0;34m(bedrag)\u001b[0m\n\u001b[1;32m      5\u001b[0m     \u001b[0;32melif\u001b[0m \u001b[0mbedrag\u001b[0m \u001b[0;34m==\u001b[0m \u001b[0;32mNone\u001b[0m\u001b[0;34m:\u001b[0m\u001b[0;34m\u001b[0m\u001b[0;34m\u001b[0m\u001b[0m\n\u001b[1;32m      6\u001b[0m         \u001b[0;32mreturn\u001b[0m \u001b[0;32mNone\u001b[0m\u001b[0;34m\u001b[0m\u001b[0;34m\u001b[0m\u001b[0m\n\u001b[0;32m----> 7\u001b[0;31m     \u001b[0;32melif\u001b[0m \u001b[0mgesplitst\u001b[0m\u001b[0;34m[\u001b[0m\u001b[0;36m1\u001b[0m\u001b[0;34m]\u001b[0m \u001b[0;34m==\u001b[0m \u001b[0;34m'dzd.'\u001b[0m\u001b[0;34m:\u001b[0m\u001b[0;34m\u001b[0m\u001b[0;34m\u001b[0m\u001b[0m\n\u001b[0m\u001b[1;32m      8\u001b[0m         \u001b[0;32mreturn\u001b[0m \u001b[0mfloat\u001b[0m\u001b[0;34m(\u001b[0m\u001b[0mgesplitst\u001b[0m\u001b[0;34m[\u001b[0m\u001b[0;36m0\u001b[0m\u001b[0;34m]\u001b[0m\u001b[0;34m)\u001b[0m \u001b[0;34m*\u001b[0m \u001b[0;36m1000\u001b[0m\u001b[0;34m\u001b[0m\u001b[0;34m\u001b[0m\u001b[0m\n\u001b[1;32m      9\u001b[0m     \u001b[0;32melif\u001b[0m \u001b[0mgesplitst\u001b[0m\u001b[0;34m[\u001b[0m\u001b[0;36m1\u001b[0m\u001b[0;34m]\u001b[0m \u001b[0;34m==\u001b[0m  \u001b[0;34m'mln.'\u001b[0m\u001b[0;34m:\u001b[0m\u001b[0;34m\u001b[0m\u001b[0;34m\u001b[0m\u001b[0m\n",
      "\u001b[0;31mIndexError\u001b[0m: list index out of range"
     ]
    }
   ],
   "source": [
    "for bdr in sommen:\n",
    "    print(transfersom(bdr))"
   ]
  },
  {
   "cell_type": "code",
   "execution_count": null,
   "id": "2347f478",
   "metadata": {},
   "outputs": [],
   "source": []
  }
 ],
 "metadata": {
  "kernelspec": {
   "display_name": "Python 3 (ipykernel)",
   "language": "python",
   "name": "python3"
  },
  "language_info": {
   "codemirror_mode": {
    "name": "ipython",
    "version": 3
   },
   "file_extension": ".py",
   "mimetype": "text/x-python",
   "name": "python",
   "nbconvert_exporter": "python",
   "pygments_lexer": "ipython3",
   "version": "3.8.10"
  }
 },
 "nbformat": 4,
 "nbformat_minor": 5
}
