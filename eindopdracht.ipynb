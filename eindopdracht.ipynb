{
 "cells": [
  {
   "cell_type": "code",
   "execution_count": 1,
   "id": "9087dc84",
   "metadata": {},
   "outputs": [],
   "source": [
    "import pandas as pd"
   ]
  },
  {
   "cell_type": "code",
   "execution_count": 2,
   "id": "492470a5",
   "metadata": {},
   "outputs": [],
   "source": [
    "# import app"
   ]
  },
  {
   "cell_type": "code",
   "execution_count": 5,
   "id": "d97c29a2",
   "metadata": {},
   "outputs": [
    {
     "data": {
      "text/plain": [
       "(3809, 7)"
      ]
     },
     "execution_count": 5,
     "metadata": {},
     "output_type": "execute_result"
    }
   ],
   "source": [
    "columns = ['Jaar', 'Club', 'Speler', 'Oude Club', 'Leeftijd', 'Positie', 'Transfersom']\n",
    "transfers = pd.read_csv('transfers.csv', names=columns)\n",
    "# sommen = transfers.Transfersom.unique()\n",
    "# sommen\n",
    "\n",
    "transfers.shape"
   ]
  },
  {
   "cell_type": "code",
   "execution_count": null,
   "id": "bbcbd919",
   "metadata": {},
   "outputs": [],
   "source": [
    "import re\n",
    "from numpy import nan as np"
   ]
  },
  {
   "cell_type": "code",
   "execution_count": null,
   "id": "ced55e9e",
   "metadata": {},
   "outputs": [],
   "source": [
    "def transfersom(bedrag):\n",
    "    if (bedrag == None) | (bedrag == '?') | (type(bedrag) == float):\n",
    "        return None\n",
    "    elif (bedrag == 'transfervrij') | (bedrag == '-'):\n",
    "            return 0\n",
    "    else:\n",
    "        print(bedrag)\n",
    "        gesplitst = bedrag.split()\n",
    "        if gesplitst[1] == 'dzd.':\n",
    "            return float(gesplitst[0]) * 1000\n",
    "        elif gesplitst[1] ==  'mln.':\n",
    "            return float(gesplitst[0].replace(',','.')) * 1000000\n",
    "        else:\n",
    "            return None\n"
   ]
  },
  {
   "cell_type": "code",
   "execution_count": null,
   "id": "3190610a",
   "metadata": {},
   "outputs": [],
   "source": []
  },
  {
   "cell_type": "code",
   "execution_count": null,
   "id": "e80f4c2a",
   "metadata": {},
   "outputs": [],
   "source": []
  },
  {
   "cell_type": "code",
   "execution_count": null,
   "id": "07ee89e6",
   "metadata": {},
   "outputs": [],
   "source": []
  }
 ],
 "metadata": {
  "kernelspec": {
   "display_name": "Python 3 (ipykernel)",
   "language": "python",
   "name": "python3"
  },
  "language_info": {
   "codemirror_mode": {
    "name": "ipython",
    "version": 3
   },
   "file_extension": ".py",
   "mimetype": "text/x-python",
   "name": "python",
   "nbconvert_exporter": "python",
   "pygments_lexer": "ipython3",
   "version": "3.8.10"
  }
 },
 "nbformat": 4,
 "nbformat_minor": 5
}
